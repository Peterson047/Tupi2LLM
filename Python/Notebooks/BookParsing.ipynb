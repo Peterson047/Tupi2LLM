{
 "cells": [
  {
   "cell_type": "code",
   "execution_count": 3,
   "id": "97136aaf",
   "metadata": {},
   "outputs": [
    {
     "name": "stdout",
     "output_type": "stream",
     "text": [
      "Requirement already satisfied: pypdf2 in c:\\users\\peterson.pereira\\appdata\\local\\anaconda3\\lib\\site-packages (3.0.1)\n",
      "Note: you may need to restart the kernel to use updated packages.\n"
     ]
    },
    {
     "name": "stderr",
     "output_type": "stream",
     "text": [
      "WARNING: Ignoring invalid distribution ~ympy (C:\\Users\\peterson.pereira\\AppData\\Local\\anaconda3\\Lib\\site-packages)\n",
      "WARNING: Ignoring invalid distribution ~ympy (C:\\Users\\peterson.pereira\\AppData\\Local\\anaconda3\\Lib\\site-packages)\n",
      "WARNING: Ignoring invalid distribution ~ympy (C:\\Users\\peterson.pereira\\AppData\\Local\\anaconda3\\Lib\\site-packages)\n"
     ]
    }
   ],
   "source": [
    "%pip install pypdf2"
   ]
  },
  {
   "cell_type": "code",
   "execution_count": null,
   "id": "797f41e2",
   "metadata": {},
   "outputs": [
    {
     "name": "stdout",
     "output_type": "stream",
     "text": [
      "Tentando ler 'C:/Users/peterson.pereira/Documents/GitHub/Tupi2LLM/Carvalho_1987_DicTupiAntigo-Port_OCR.pdf' usando PyPDF2...\n",
      "PDF tem 324 páginas.\n",
      "Processando página 50/324...\n"
     ]
    }
   ],
   "source": [
    "import re\n",
    "import os\n",
    "import random\n",
    "from collections import Counter\n",
    "import unicodedata\n",
    "\n",
    "# --- Tente com PyPDF2 ---\n",
    "try:\n",
    "    import PyPDF2\n",
    "    pdf_reader_type = 'PyPDF2'\n",
    "except ImportError:\n",
    "    print(\"PyPDF2 não encontrado. Tentando PyMuPDF...\")\n",
    "    # --- Tente com PyMuPDF (fitz) ---\n",
    "    try:\n",
    "        import fitz # PyMuPDF\n",
    "        pdf_reader_type = 'PyMuPDF'\n",
    "    except ImportError:\n",
    "        print(\"Erro: Nem PyPDF2 nem PyMuPDF (fitz) estão instalados.\")\n",
    "        print(\"Execute 'pip install PyPDF2' ou 'pip install PyMuPDF'\")\n",
    "        pdf_reader_type = None\n",
    "\n",
    "# --- Configurações ---\n",
    "caminho_arquivo_pdf = 'C:/Users/peterson.pereira/Documents/GitHub/Tupi2LLM/Carvalho_1987_DicTupiAntigo-Port_OCR.pdf' # <<< COLOQUE O CAMINHO CORRETO AQUI\n",
    "\n",
    "caminho_arquivo_txt_extraido = 'C:/Users/peterson.pereira/Documents/GitHub/Tupi2LLM/output/arquivo_bruto_extraido.txt' # Arquivo para salvar o texto bruto extraído\n",
    "caminho_arquivo_limpo_fase1 = 'C:/Users/peterson.pereira/Documents/GitHub/Tupi2LLM/output/arquivo_bruto_limpo.txtfase1.txt'\n",
    "\n",
    "# --- Extrair Texto do PDF ---\n",
    "texto_original = \"\"\n",
    "linhas_originais = []\n",
    "\n",
    "if pdf_reader_type and os.path.exists(caminho_arquivo_pdf):\n",
    "    print(f\"Tentando ler '{caminho_arquivo_pdf}' usando {pdf_reader_type}...\")\n",
    "    try:\n",
    "        if pdf_reader_type == 'PyPDF2':\n",
    "            with open(caminho_arquivo_pdf, 'rb') as pdf_file:\n",
    "                pdf_reader = PyPDF2.PdfReader(pdf_file)\n",
    "                num_paginas = len(pdf_reader.pages)\n",
    "                print(f\"PDF tem {num_paginas} páginas.\")\n",
    "                for page_num in range(num_paginas):\n",
    "                    if (page_num + 1) % 50 == 0: # Feedback a cada 50 páginas\n",
    "                         print(f\"Processando página {page_num + 1}/{num_paginas}...\")\n",
    "                    page = pdf_reader.pages[page_num]\n",
    "                    texto_original += page.extract_text() + \"\\n\" # Adiciona nova linha entre páginas\n",
    "            print(\"Extração com PyPDF2 concluída.\")\n",
    "\n",
    "        elif pdf_reader_type == 'PyMuPDF':\n",
    "            doc = fitz.open(caminho_arquivo_pdf)\n",
    "            num_paginas = doc.page_count\n",
    "            print(f\"PDF tem {num_paginas} páginas.\")\n",
    "            for page_num in range(num_paginas):\n",
    "                 if (page_num + 1) % 50 == 0: # Feedback a cada 50 páginas\n",
    "                         print(f\"Processando página {page_num + 1}/{num_paginas}...\")\n",
    "                 page = doc.load_page(page_num)\n",
    "                 texto_original += page.get_text(\"text\") + \"\\n\" # Adiciona nova linha entre páginas\n",
    "            doc.close()\n",
    "            print(\"Extração com PyMuPDF concluída.\")\n",
    "\n",
    "        # Salvar o texto bruto extraído (bom para referência)\n",
    "        with open(caminho_arquivo_txt_extraido, 'w', encoding='utf-8') as f_out:\n",
    "             f_out.write(texto_original)\n",
    "        print(f\"Texto bruto extraído salvo em '{caminho_arquivo_txt_extraido}'\")\n",
    "\n",
    "        # Dividir o texto em linhas para as próximas etapas\n",
    "        linhas_originais = texto_original.splitlines()\n",
    "        print(f\"Texto carregado: {len(texto_original)} caracteres, {len(linhas_originais)} linhas (aprox.)\")\n",
    "\n",
    "    except Exception as e:\n",
    "        print(f\"Erro ao processar o PDF: {e}\")\n",
    "        texto_original = None\n",
    "        linhas_originais = []\n",
    "\n",
    "elif not pdf_reader_type:\n",
    "    print(\"Nenhuma biblioteca de leitura de PDF funcional encontrada.\")\n",
    "else:\n",
    "     print(f\"Erro: Arquivo PDF não encontrado em '{caminho_arquivo_pdf}'\")\n",
    "\n",
    "# --- Verificação Simples ---\n",
    "if linhas_originais:\n",
    "    print(\"\\n--- Primeiras 5 Linhas Extraídas ---\")\n",
    "    for i, linha in enumerate(linhas_originais[:5]):\n",
    "        print(f\"{i:03d}: {linha}\")\n",
    "else:\n",
    "    print(\"\\nNão foi possível carregar o texto do PDF.\")\n",
    "\n",
    "# (Opcional: Se a extração falhar, você pode tentar copiar manualmente\n",
    "#  o texto de algumas páginas do PDF para um arquivo .txt e usar o\n",
    "#  código da resposta anterior para carregar o .txt)\n",
    "# print(\"\\nAlternativa: Copie o texto manualmente do PDF para um arquivo .txt\")\n",
    "# print(\"E ajuste 'caminho_arquivo_ocr' na célula original para ler esse .txt\")"
   ]
  }
 ],
 "metadata": {
  "kernelspec": {
   "display_name": "Python 3 (ipykernel)",
   "language": "python",
   "name": "python3"
  },
  "language_info": {
   "codemirror_mode": {
    "name": "ipython",
    "version": 3
   },
   "file_extension": ".py",
   "mimetype": "text/x-python",
   "name": "python",
   "nbconvert_exporter": "python",
   "pygments_lexer": "ipython3",
   "version": "3.12.7"
  }
 },
 "nbformat": 4,
 "nbformat_minor": 5
}
